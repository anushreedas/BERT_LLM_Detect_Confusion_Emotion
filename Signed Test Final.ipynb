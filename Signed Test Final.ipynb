{
 "cells": [
  {
   "cell_type": "markdown",
   "metadata": {},
   "source": [
    "# Sign Test for comparing two models"
   ]
  },
  {
   "cell_type": "code",
   "execution_count": null,
   "metadata": {},
   "outputs": [],
   "source": [
    "from scipy.stats import binom_test\n",
    "import scipy.stats as st\n",
    "\n",
    "'''\n",
    "Sign Test (Statistical significance test) to prove if a model is better than the other\n",
    "'''\n",
    "def sign_test(scores1,scores2):\n",
    "    diff = [a_i - b_i for a_i, b_i in zip(scores1, scores2)]\n",
    "    pos_count, neg_count, zero_count = 0, 0, 0\n",
    "\n",
    "    for num in diff:\n",
    "       # check for being positive\n",
    "        if num > 0:\n",
    "            pos_count += 1\n",
    "        elif num < 0:\n",
    "            neg_count += 1\n",
    "        else:\n",
    "            zero_count += 1\n",
    "    print(pos_count, neg_count, zero_count)\n",
    "    p_value = binom_test(x=pos_count, n=len(scores1)-zero_count, p=1/2, alternative='greater')\n",
    "    \n",
    "    return p_value"
   ]
  },
  {
   "cell_type": "code",
   "execution_count": null,
   "metadata": {},
   "outputs": [],
   "source": [
    "model_paths = [\"Results/bert-base-uncased_2_test.torch\",\n",
    "               \"Results/bert-base-uncased_6_test.torch\",\n",
    "               \"Results/bert-base-uncased_12_test.torch\",\n",
    "               \"Results/bert-base-uncased_14_test.torch\",\n",
    "               \"Results/bert-base-uncased_18_test.torch\",\n",
    "               \"Results/TODBERT/TOD-BERT-JNT-V1_2_test.torch\",\n",
    "               \"Results/TODBERT/TOD-BERT-JNT-V1_6_test.torch\",\n",
    "               \"Results/TODBERT/TOD-BERT-JNT-V1_12_test.torch\",\n",
    "               \"Results/TODBERT/TOD-BERT-JNT-V1_14_test.torch\", \n",
    "               \"Results/TODBERT/TOD-BERT-JNT-V1_18_test.torch\",\n",
    "               \"Results/bert-base-uncased_12freeze_test.torch\",\n",
    "               \"Results/bert-base-uncased_12freeze6_test.torch\"]\n",
    "\n",
    "start = 0\n",
    "end = 5\n",
    "\n",
    "start = 5\n",
    "end = 10\n",
    "\n",
    "for i in range(start,end-1):\n",
    "    for j in range(i+1,end):\n",
    "        #load model scores\n",
    "        model1 = model_paths[i][:-6]\n",
    "        f = open(model1+'/acc_scores.txt', \"r\")\n",
    "        scores1 = [float(line) for line in f.readlines()]\n",
    "        f.close()\n",
    "\n",
    "        model2 = model_paths[j][:-6]\n",
    "        f = open(model2+'/acc_scores.txt', \"r\")\n",
    "        scores2 = [float(line) for line in f.readlines()]\n",
    "        f.close()\n",
    "\n",
    "        # sign test to prove model 1 is better that model 2\n",
    "        p_value = sign_test(scores1,scores2)\n",
    "        print('p_value:',p_value)\n",
    "        if p_value < 0.05:\n",
    "            print(model1, ' is better than ', model2)\n",
    "        elif p_value <0.1:\n",
    "            print(model1, ' could be better than ', model2)\n",
    "        else:\n",
    "            print(model1, ' is not better than ', model2)\n",
    "\n",
    "        # sign test to prove model 2 is better that model 1\n",
    "        p_value = sign_test(scores2,scores1)\n",
    "        print('p_value:',p_value)\n",
    "        if p_value < 0.05:\n",
    "            print(model2, ' is better than ', model1)\n",
    "        elif p_value <0.1:\n",
    "            print(model2, ' could be better than ', model1)\n",
    "        else:\n",
    "            print(model2, ' is not better than ', model1)\n",
    "        \n"
   ]
  },
  {
   "cell_type": "code",
   "execution_count": null,
   "metadata": {},
   "outputs": [],
   "source": []
  }
 ],
 "metadata": {
  "kernelspec": {
   "display_name": "Python 3",
   "language": "python",
   "name": "python3"
  },
  "language_info": {
   "codemirror_mode": {
    "name": "ipython",
    "version": 3
   },
   "file_extension": ".py",
   "mimetype": "text/x-python",
   "name": "python",
   "nbconvert_exporter": "python",
   "pygments_lexer": "ipython3",
   "version": "3.8.7"
  }
 },
 "nbformat": 4,
 "nbformat_minor": 4
}
