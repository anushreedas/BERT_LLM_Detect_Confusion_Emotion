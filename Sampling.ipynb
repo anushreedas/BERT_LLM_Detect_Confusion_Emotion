{
 "cells": [
  {
   "cell_type": "markdown",
   "metadata": {},
   "source": [
    "# Create samples of test data \n",
    "We need multiple scores to compare two model using sign test"
   ]
  },
  {
   "cell_type": "code",
   "execution_count": null,
   "metadata": {},
   "outputs": [],
   "source": [
    "from sklearn.model_selection import train_test_split\n",
    "import pandas as pd\n",
    "\n",
    "directory = 'capstone/dataset/sentence/'\n",
    "filepath = 'sentence_test_dataset.csv'\n",
    "df = pd.read_csv(directory+filepath,header=None)\n",
    "df.columns = ['sentence','label']\n",
    "print(df.head())\n",
    "\n",
    "for i in range(20):\n",
    "    stratified_sample, _ = train_test_split(df, test_size=0.7, stratify=df[['label']])\n",
    "    filepath = 'sample_data'+str(i)+'.csv'\n",
    "    stratified_sample.to_csv(directory+filepath,index=False,header=False)\n"
   ]
  },
  {
   "cell_type": "markdown",
   "metadata": {},
   "source": [
    "# check if sample distribution is continuous"
   ]
  },
  {
   "cell_type": "code",
   "execution_count": null,
   "metadata": {},
   "outputs": [],
   "source": [
    "import numpy as np\n",
    "import matplotlib.pyplot as plt\n",
    "\n",
    "def class_distribution(labels):\n",
    "    unique, counts = np.unique(labels, return_counts=True)\n",
    "    print(min(counts))\n",
    "    plt.bar(unique, counts, 1)\n",
    "    plt.title('Class Frequency')\n",
    "    plt.xlabel('Class')\n",
    "    plt.ylabel('Frequency')\n",
    "    plt.show()\n",
    "    \n",
    "class_distribution(df['label'])\n",
    "class_distribution(stratified_sample['label'])"
   ]
  },
  {
   "cell_type": "code",
   "execution_count": null,
   "metadata": {},
   "outputs": [],
   "source": []
  }
 ],
 "metadata": {
  "kernelspec": {
   "display_name": "Python 3",
   "language": "python",
   "name": "python3"
  },
  "language_info": {
   "codemirror_mode": {
    "name": "ipython",
    "version": 3
   },
   "file_extension": ".py",
   "mimetype": "text/x-python",
   "name": "python",
   "nbconvert_exporter": "python",
   "pygments_lexer": "ipython3",
   "version": "3.8.7"
  }
 },
 "nbformat": 4,
 "nbformat_minor": 4
}
